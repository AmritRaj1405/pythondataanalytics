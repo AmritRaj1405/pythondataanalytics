{
 "cells": [
  {
   "attachments": {},
   "cell_type": "markdown",
   "metadata": {},
   "source": [
    "why should i use numpy?"
   ]
  },
  {
   "cell_type": "code",
   "execution_count": 9,
   "metadata": {},
   "outputs": [],
   "source": [
    "import numpy as np\n"
   ]
  },
  {
   "cell_type": "code",
   "execution_count": 10,
   "metadata": {},
   "outputs": [
    {
     "name": "stdout",
     "output_type": "stream",
     "text": [
      "[[ 5  5]\n",
      " [ 9 11]]\n"
     ]
    }
   ],
   "source": [
    "x=np.array([[3,2],[5,5]])\n",
    "y=np.array([[2,3],[4,6]])\n",
    "z=x+y\n",
    "print(z)"
   ]
  },
  {
   "cell_type": "code",
   "execution_count": 12,
   "metadata": {},
   "outputs": [
    {
     "name": "stdout",
     "output_type": "stream",
     "text": [
      "matrix properties\n",
      "shape => (2, 2)\n",
      "size (2, 2)\n",
      "dtype int32\n",
      "ndim=> 2\n"
     ]
    }
   ],
   "source": [
    "print(\"matrix properties\")\n",
    "print(\"shape =>\",z.shape)\n",
    "print(\"size\",z.shape)\n",
    "print(\"dtype\",z.dtype)\n",
    "print(\"ndim=>\",z.ndim)"
   ]
  },
  {
   "cell_type": "code",
   "execution_count": 14,
   "metadata": {},
   "outputs": [
    {
     "name": "stdout",
     "output_type": "stream",
     "text": [
      "(3, 3)\n",
      "9\n",
      "int32\n",
      "2\n",
      "[[3 2 1]\n",
      " [1 2 3]\n",
      " [2 3 1]]\n"
     ]
    }
   ],
   "source": [
    "x=np.array([\n",
    "    [3,2,1],\n",
    "    [1,2,3],\n",
    "    [2,3,1],\n",
    " ])\n",
    "\n",
    "print(x.shape)\n",
    "print(x.size)\n",
    "print(x.dtype)\n",
    "print(x.ndim)\n",
    "print(x)"
   ]
  },
  {
   "attachments": {},
   "cell_type": "markdown",
   "metadata": {},
   "source": [
    "generating matrix\n",
    "-sequential\n",
    "    -np.arange\n",
    "    -np.linspace\n",
    "    -np.logspace\n",
    "-random \n",
    "    -np.random.rand\n",
    "    -np.random.randint\n",
    "    -np.random.uniform \n",
    "-special\n",
    "-np.zeros\n",
    "-np.ones\n",
    "-np.eye \n",
    "-np.diag\n",
    "\n"
   ]
  },
  {
   "cell_type": "code",
   "execution_count": 15,
   "metadata": {},
   "outputs": [
    {
     "name": "stdout",
     "output_type": "stream",
     "text": [
      "[-100  -95  -90  -85  -80  -75  -70  -65  -60  -55  -50  -45  -40  -35\n",
      "  -30  -25  -20  -15  -10   -5    0    5   10   15   20   25   30   35\n",
      "   40   45   50   55   60   65   70   75   80   85   90   95]\n"
     ]
    }
   ],
   "source": [
    "a=np.arange(-100,100,5)\n",
    "print(a)"
   ]
  },
  {
   "cell_type": "code",
   "execution_count": 16,
   "metadata": {},
   "outputs": [
    {
     "name": "stdout",
     "output_type": "stream",
     "text": [
      "[-100.          -89.47368421  -78.94736842  -68.42105263  -57.89473684\n",
      "  -47.36842105  -36.84210526  -26.31578947  -15.78947368   -5.26315789\n",
      "    5.26315789   15.78947368   26.31578947   36.84210526   47.36842105\n",
      "   57.89473684   68.42105263   78.94736842   89.47368421  100.        ]\n"
     ]
    }
   ],
   "source": [
    "b=np.linspace(-100,100,20)#linspace divides  a number from -100 to 100 with gap of 20 \n",
    "print(b)"
   ]
  },
  {
   "cell_type": "code",
   "execution_count": 17,
   "metadata": {},
   "outputs": [
    {
     "name": "stdout",
     "output_type": "stream",
     "text": [
      "\u001b[1;31mSignature:\u001b[0m\n",
      "\u001b[0mnp\u001b[0m\u001b[1;33m.\u001b[0m\u001b[0mlogspace\u001b[0m\u001b[1;33m(\u001b[0m\u001b[1;33m\n",
      "\u001b[0m    \u001b[0mstart\u001b[0m\u001b[1;33m,\u001b[0m\u001b[1;33m\n",
      "\u001b[0m    \u001b[0mstop\u001b[0m\u001b[1;33m,\u001b[0m\u001b[1;33m\n",
      "\u001b[0m    \u001b[0mnum\u001b[0m\u001b[1;33m=\u001b[0m\u001b[1;36m50\u001b[0m\u001b[1;33m,\u001b[0m\u001b[1;33m\n",
      "\u001b[0m    \u001b[0mendpoint\u001b[0m\u001b[1;33m=\u001b[0m\u001b[1;32mTrue\u001b[0m\u001b[1;33m,\u001b[0m\u001b[1;33m\n",
      "\u001b[0m    \u001b[0mbase\u001b[0m\u001b[1;33m=\u001b[0m\u001b[1;36m10.0\u001b[0m\u001b[1;33m,\u001b[0m\u001b[1;33m\n",
      "\u001b[0m    \u001b[0mdtype\u001b[0m\u001b[1;33m=\u001b[0m\u001b[1;32mNone\u001b[0m\u001b[1;33m,\u001b[0m\u001b[1;33m\n",
      "\u001b[0m    \u001b[0maxis\u001b[0m\u001b[1;33m=\u001b[0m\u001b[1;36m0\u001b[0m\u001b[1;33m,\u001b[0m\u001b[1;33m\n",
      "\u001b[0m\u001b[1;33m)\u001b[0m\u001b[1;33m\u001b[0m\u001b[1;33m\u001b[0m\u001b[0m\n",
      "\u001b[1;31mDocstring:\u001b[0m\n",
      "Return numbers spaced evenly on a log scale.\n",
      "\n",
      "In linear space, the sequence starts at ``base ** start``\n",
      "(`base` to the power of `start`) and ends with ``base ** stop``\n",
      "(see `endpoint` below).\n",
      "\n",
      ".. versionchanged:: 1.16.0\n",
      "    Non-scalar `start` and `stop` are now supported.\n",
      "\n",
      "Parameters\n",
      "----------\n",
      "start : array_like\n",
      "    ``base ** start`` is the starting value of the sequence.\n",
      "stop : array_like\n",
      "    ``base ** stop`` is the final value of the sequence, unless `endpoint`\n",
      "    is False.  In that case, ``num + 1`` values are spaced over the\n",
      "    interval in log-space, of which all but the last (a sequence of\n",
      "    length `num`) are returned.\n",
      "num : integer, optional\n",
      "    Number of samples to generate.  Default is 50.\n",
      "endpoint : boolean, optional\n",
      "    If true, `stop` is the last sample. Otherwise, it is not included.\n",
      "    Default is True.\n",
      "base : array_like, optional\n",
      "    The base of the log space. The step size between the elements in\n",
      "    ``ln(samples) / ln(base)`` (or ``log_base(samples)``) is uniform.\n",
      "    Default is 10.0.\n",
      "dtype : dtype\n",
      "    The type of the output array.  If `dtype` is not given, the data type\n",
      "    is inferred from `start` and `stop`. The inferred type will never be\n",
      "    an integer; `float` is chosen even if the arguments would produce an\n",
      "    array of integers.\n",
      "axis : int, optional\n",
      "    The axis in the result to store the samples.  Relevant only if start\n",
      "    or stop are array-like.  By default (0), the samples will be along a\n",
      "    new axis inserted at the beginning. Use -1 to get an axis at the end.\n",
      "\n",
      "    .. versionadded:: 1.16.0\n",
      "\n",
      "\n",
      "Returns\n",
      "-------\n",
      "samples : ndarray\n",
      "    `num` samples, equally spaced on a log scale.\n",
      "\n",
      "See Also\n",
      "--------\n",
      "arange : Similar to linspace, with the step size specified instead of the\n",
      "         number of samples. Note that, when used with a float endpoint, the\n",
      "         endpoint may or may not be included.\n",
      "linspace : Similar to logspace, but with the samples uniformly distributed\n",
      "           in linear space, instead of log space.\n",
      "geomspace : Similar to logspace, but with endpoints specified directly.\n",
      ":ref:`how-to-partition`\n",
      "\n",
      "Notes\n",
      "-----\n",
      "Logspace is equivalent to the code\n",
      "\n",
      ">>> y = np.linspace(start, stop, num=num, endpoint=endpoint)\n",
      "... # doctest: +SKIP\n",
      ">>> power(base, y).astype(dtype)\n",
      "... # doctest: +SKIP\n",
      "\n",
      "Examples\n",
      "--------\n",
      ">>> np.logspace(2.0, 3.0, num=4)\n",
      "array([ 100.        ,  215.443469  ,  464.15888336, 1000.        ])\n",
      ">>> np.logspace(2.0, 3.0, num=4, endpoint=False)\n",
      "array([100.        ,  177.827941  ,  316.22776602,  562.34132519])\n",
      ">>> np.logspace(2.0, 3.0, num=4, base=2.0)\n",
      "array([4.        ,  5.0396842 ,  6.34960421,  8.        ])\n",
      "\n",
      "Graphical illustration:\n",
      "\n",
      ">>> import matplotlib.pyplot as plt\n",
      ">>> N = 10\n",
      ">>> x1 = np.logspace(0.1, 1, N, endpoint=True)\n",
      ">>> x2 = np.logspace(0.1, 1, N, endpoint=False)\n",
      ">>> y = np.zeros(N)\n",
      ">>> plt.plot(x1, y, 'o')\n",
      "[<matplotlib.lines.Line2D object at 0x...>]\n",
      ">>> plt.plot(x2, y + 0.5, 'o')\n",
      "[<matplotlib.lines.Line2D object at 0x...>]\n",
      ">>> plt.ylim([-0.5, 1])\n",
      "(-0.5, 1)\n",
      ">>> plt.show()\n",
      "\u001b[1;31mFile:\u001b[0m      c:\\users\\hp\\miniconda3\\lib\\site-packages\\numpy\\core\\function_base.py\n",
      "\u001b[1;31mType:\u001b[0m      function\n"
     ]
    }
   ],
   "source": [
    "np.logspace?"
   ]
  },
  {
   "cell_type": "code",
   "execution_count": 23,
   "metadata": {},
   "outputs": [
    {
     "name": "stdout",
     "output_type": "stream",
     "text": [
      "[   2.    4.    8.   16.   32.   64.  128.  256.  512. 1024.]\n"
     ]
    }
   ],
   "source": [
    "c=np.logspace(1,10,base=2,num=10)\n",
    "print(c)"
   ]
  },
  {
   "cell_type": "code",
   "execution_count": 24,
   "metadata": {},
   "outputs": [
    {
     "name": "stderr",
     "output_type": "stream",
     "text": [
      "Matplotlib is building the font cache; this may take a moment.\n"
     ]
    }
   ],
   "source": [
    "import matplotlib.pyplot as plt"
   ]
  },
  {
   "cell_type": "code",
   "execution_count": 26,
   "metadata": {},
   "outputs": [
    {
     "data": {
      "text/plain": [
       "[<matplotlib.lines.Line2D at 0x18fc114bb80>]"
      ]
     },
     "execution_count": 26,
     "metadata": {},
     "output_type": "execute_result"
    },
    {
     "data": {
      "image/png": "[encoded data removed]",
      "text/plain": [
       "<Figure size 640x480 with 1 Axes>"
      ]
     },
     "metadata": {},
     "output_type": "display_data"
    }
   ],
   "source": [
    "plt.plot(np.linspace(1,10,25),\"ro\")#ro means red and o means bullets in graph"
   ]
  },
  {
   "cell_type": "markdown",
   "metadata": {},
   "source": []
  },
  {
   "cell_type": "code",
   "execution_count": 29,
   "metadata": {},
   "outputs": [
    {
     "data": {
      "text/plain": [
       "[<matplotlib.lines.Line2D at 0x18fc11cf400>]"
      ]
     },
     "execution_count": 29,
     "metadata": {},
     "output_type": "execute_result"
    },
    {
     "data": {
      "image/png": "[encoded data removed]",
      "text/plain": [
       "<Figure size 640x480 with 1 Axes>"
      ]
     },
     "metadata": {},
     "output_type": "display_data"
    }
   ],
   "source": [
    "plt.plot(np.logspace(1,10,25,base=2),\"rx\") # in this 1 is starting point and 10 is ending point and 25 is no of elements"
   ]
  },
  {
   "cell_type": "code",
   "execution_count": 30,
   "metadata": {},
   "outputs": [
    {
     "name": "stdout",
     "output_type": "stream",
     "text": [
      "[[0.75426816 0.01747954 0.98395484]\n",
      " [0.80093882 0.27275453 0.01415781]\n",
      " [0.2704606  0.50314673 0.10343466]\n",
      " [0.25269615 0.65052024 0.34717868]\n",
      " [0.20176489 0.14621857 0.9930904 ]]\n"
     ]
    }
   ],
   "source": [
    "x= np.random.rand(5,3)\n",
    "print(x)"
   ]
  },
  {
   "cell_type": "code",
   "execution_count": 34,
   "metadata": {},
   "outputs": [
    {
     "name": "stdout",
     "output_type": "stream",
     "text": [
      "[[41 67 98]\n",
      " [88 93 17]\n",
      " [89 77 48]]\n"
     ]
    }
   ],
   "source": [
    "y=np.random.randint(1,100,(3,3))\n",
    "print(y)"
   ]
  },
  {
   "cell_type": "code",
   "execution_count": 35,
   "metadata": {},
   "outputs": [
    {
     "name": "stdout",
     "output_type": "stream",
     "text": [
      "[0.71115411 4.20968386]\n"
     ]
    }
   ],
   "source": [
    "z=np.random.uniform((-5,5),(3,3))\n",
    "print(z)"
   ]
  },
  {
   "cell_type": "code",
   "execution_count": 36,
   "metadata": {},
   "outputs": [
    {
     "name": "stdout",
     "output_type": "stream",
     "text": [
      "[[1 1 1 1 1]\n",
      " [1 1 1 1 1]\n",
      " [1 1 1 1 1]\n",
      " [1 1 1 1 1]\n",
      " [1 1 1 1 1]]\n"
     ]
    }
   ],
   "source": [
    "a=np.ones([5,5],dtype=int)\n",
    "print(a)"
   ]
  },
  {
   "cell_type": "code",
   "execution_count": 37,
   "metadata": {},
   "outputs": [
    {
     "name": "stdout",
     "output_type": "stream",
     "text": [
      "[[0 0 0 0 0 0 0 0 0 0]\n",
      " [0 0 0 0 0 0 0 0 0 0]\n",
      " [0 0 0 0 0 0 0 0 0 0]\n",
      " [0 0 0 0 0 0 0 0 0 0]\n",
      " [0 0 0 0 0 0 0 0 0 0]]\n"
     ]
    }
   ],
   "source": [
    "z=np.zeros([5,10],dtype=int)\n",
    "print(z)"
   ]
  },
  {
   "cell_type": "code",
   "execution_count": 39,
   "metadata": {},
   "outputs": [
    {
     "name": "stdout",
     "output_type": "stream",
     "text": [
      "[[1 0 0 0 0]\n",
      " [0 1 0 0 0]\n",
      " [0 0 1 0 0]\n",
      " [0 0 0 1 0]\n",
      " [0 0 0 0 1]]\n"
     ]
    }
   ],
   "source": [
    "e=np.eye(5, dtype=int)\n",
    "print(e)"
   ]
  },
  {
   "cell_type": "code",
   "execution_count": 40,
   "metadata": {},
   "outputs": [
    {
     "name": "stdout",
     "output_type": "stream",
     "text": [
      "[[2 0 0 0 0]\n",
      " [0 3 0 0 0]\n",
      " [0 0 4 0 0]\n",
      " [0 0 0 5 0]\n",
      " [0 0 0 0 6]]\n"
     ]
    }
   ],
   "source": [
    "f=np.diag([2,3,4,5,6])\n",
    "print(f)"
   ]
  },
  {
   "cell_type": "code",
   "execution_count": 41,
   "metadata": {},
   "outputs": [
    {
     "name": "stdout",
     "output_type": "stream",
     "text": [
      "[[8 3 1]\n",
      " [8 5 9]\n",
      " [9 9 3]]\n",
      "[[4 7 6]\n",
      " [3 3 4]\n",
      " [3 1 4]]\n"
     ]
    }
   ],
   "source": [
    "x=np.random.randint(1,10,(3,3))\n",
    "y=np.random.randint(1,10,(3,3))\n",
    "print(x)\n",
    "print(y)"
   ]
  },
  {
   "cell_type": "code",
   "execution_count": 42,
   "metadata": {},
   "outputs": [
    {
     "data": {
      "text/plain": [
       "array([[12, 10,  7],\n",
       "       [11,  8, 13],\n",
       "       [12, 10,  7]])"
      ]
     },
     "execution_count": 42,
     "metadata": {},
     "output_type": "execute_result"
    }
   ],
   "source": [
    "x+y#elements wise addition"
   ]
  },
  {
   "cell_type": "code",
   "execution_count": 43,
   "metadata": {},
   "outputs": [
    {
     "data": {
      "text/plain": [
       "array([[ 4, -4, -5],\n",
       "       [ 5,  2,  5],\n",
       "       [ 6,  8, -1]])"
      ]
     },
     "execution_count": 43,
     "metadata": {},
     "output_type": "execute_result"
    }
   ],
   "source": [
    "x-y#elements wise substraction"
   ]
  },
  {
   "cell_type": "code",
   "execution_count": 44,
   "metadata": {},
   "outputs": [
    {
     "data": {
      "text/plain": [
       "array([[2.        , 0.42857143, 0.16666667],\n",
       "       [2.66666667, 1.66666667, 2.25      ],\n",
       "       [3.        , 9.        , 0.75      ]])"
      ]
     },
     "execution_count": 44,
     "metadata": {},
     "output_type": "execute_result"
    }
   ],
   "source": [
    "x/y"
   ]
  },
  {
   "cell_type": "code",
   "execution_count": 45,
   "metadata": {},
   "outputs": [
    {
     "data": {
      "text/plain": [
       "array([[32, 21,  6],\n",
       "       [24, 15, 36],\n",
       "       [27,  9, 12]])"
      ]
     },
     "execution_count": 45,
     "metadata": {},
     "output_type": "execute_result"
    }
   ],
   "source": [
    "x*y"
   ]
  },
  {
   "cell_type": "code",
   "execution_count": 46,
   "metadata": {},
   "outputs": [
    {
     "data": {
      "text/plain": [
       "array([[ 44,  66,  64],\n",
       "       [ 74,  80, 104],\n",
       "       [ 72,  93, 102]])"
      ]
     },
     "execution_count": 46,
     "metadata": {},
     "output_type": "execute_result"
    }
   ],
   "source": [
    "np.matmul(x,y)#matrix multiplication"
   ]
  },
  {
   "cell_type": "code",
   "execution_count": 47,
   "metadata": {},
   "outputs": [
    {
     "data": {
      "text/plain": [
       "array([[ 44,  66,  64],\n",
       "       [ 74,  80, 104],\n",
       "       [ 72,  93, 102]])"
      ]
     },
     "execution_count": 47,
     "metadata": {},
     "output_type": "execute_result"
    }
   ],
   "source": [
    "np.dot(x,y)#matrix multiplication"
   ]
  },
  {
   "cell_type": "code",
   "execution_count": 48,
   "metadata": {},
   "outputs": [
    {
     "data": {
      "text/plain": [
       "array([[ 11, -44,  44],\n",
       "       [ -7,  -5,   9],\n",
       "       [ 33, -27, -18]])"
      ]
     },
     "execution_count": 48,
     "metadata": {},
     "output_type": "execute_result"
    }
   ],
   "source": [
    "np.cross(x,y)#cross product"
   ]
  },
  {
   "cell_type": "code",
   "execution_count": 49,
   "metadata": {},
   "outputs": [
    {
     "data": {
      "text/plain": [
       "array([[ 0.98935825,  0.14112001,  0.84147098],\n",
       "       [ 0.98935825, -0.95892427,  0.41211849],\n",
       "       [ 0.41211849,  0.41211849,  0.14112001]])"
      ]
     },
     "execution_count": 49,
     "metadata": {},
     "output_type": "execute_result"
    }
   ],
   "source": [
    "np.sin(x)#sin of each elements"
   ]
  },
  {
   "cell_type": "code",
   "execution_count": 50,
   "metadata": {},
   "outputs": [
    {
     "data": {
      "text/plain": [
       "array([[-0.14550003, -0.9899925 ,  0.54030231],\n",
       "       [-0.14550003,  0.28366219, -0.91113026],\n",
       "       [-0.91113026, -0.91113026, -0.9899925 ]])"
      ]
     },
     "execution_count": 50,
     "metadata": {},
     "output_type": "execute_result"
    }
   ],
   "source": [
    "np.cos(x)"
   ]
  },
  {
   "cell_type": "code",
   "execution_count": 51,
   "metadata": {},
   "outputs": [
    {
     "data": {
      "text/plain": [
       "array([ 8, 11, 12, 20, 25, 34, 43, 52, 55])"
      ]
     },
     "execution_count": 51,
     "metadata": {},
     "output_type": "execute_result"
    }
   ],
   "source": [
    "np.cumsum(x)#cumulative sum"
   ]
  },
  {
   "cell_type": "code",
   "execution_count": 52,
   "metadata": {},
   "outputs": [
    {
     "data": {
      "text/plain": [
       "array([      8,      24,      24,     192,     960,    8640,   77760,\n",
       "        699840, 2099520])"
      ]
     },
     "execution_count": 52,
     "metadata": {},
     "output_type": "execute_result"
    }
   ],
   "source": [
    "np.cumprod(x)"
   ]
  },
  {
   "cell_type": "code",
   "execution_count": 53,
   "metadata": {},
   "outputs": [
    {
     "data": {
      "text/plain": [
       "55"
      ]
     },
     "execution_count": 53,
     "metadata": {},
     "output_type": "execute_result"
    }
   ],
   "source": [
    "x.sum()"
   ]
  },
  {
   "cell_type": "code",
   "execution_count": 54,
   "metadata": {},
   "outputs": [
    {
     "name": "stdout",
     "output_type": "stream",
     "text": [
      "[[1 5 2 6 8]\n",
      " [8 8 1 4 1]\n",
      " [8 2 2 6 4]]\n",
      "[17 15  5 16 13]\n",
      "[22 22 22]\n"
     ]
    }
   ],
   "source": [
    "x=np.random.randint(1,10,(3,5))\n",
    "print(x)\n",
    "print(x.sum(axis=0))#sum of each column\n",
    "print(x.sum(axis=1))#sum of each row"
   ]
  },
  {
   "cell_type": "code",
   "execution_count": 55,
   "metadata": {},
   "outputs": [
    {
     "name": "stdout",
     "output_type": "stream",
     "text": [
      "4.4\n",
      "8\n",
      "1\n",
      "2.703084657695106\n",
      "4.0\n"
     ]
    }
   ],
   "source": [
    "print(x.mean())\n",
    "print(x.max())\n",
    "print(x.min())\n",
    "print(x.std())\n",
    "print(np.median(x))"
   ]
  },
  {
   "cell_type": "code",
   "execution_count": null,
   "metadata": {},
   "outputs": [],
   "source": []
  }
 ],
 "metadata": {
  "kernelspec": {
   "display_name": "base",
   "language": "python",
   "name": "python3"
  },
  "language_info": {
   "codemirror_mode": {
    "name": "ipython",
    "version": 3
   },
   "file_extension": ".py",
   "mimetype": "text/x-python",
   "name": "python",
   "nbconvert_exporter": "python",
   "pygments_lexer": "ipython3",
   "version": "3.9.12"
  },
  "orig_nbformat": 4,
  "vscode": {
   "interpreter": {
    "hash": "79d71d161e7943240a345005223b4b57f09b9732a24e4917a9c0467b3aef16ea"
   }
  }
 },
 "nbformat": 4,
 "nbformat_minor": 2
}
