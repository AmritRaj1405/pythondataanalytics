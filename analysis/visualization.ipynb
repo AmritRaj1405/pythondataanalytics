{
 "cells": [
  {
   "cell_type": "code",
   "execution_count": 3,
   "metadata": {},
   "outputs": [],
   "source": [
    "import numpy as np\n",
    "import matplotlib.pyplot as plt"
   ]
  },
  {
   "cell_type": "code",
   "execution_count": 6,
   "metadata": {},
   "outputs": [
    {
     "name": "stdout",
     "output_type": "stream",
     "text": [
      "[2000 2001 2002 2003 2004 2005 2006 2007 2008 2009]\n",
      "[47 49 71 56 88 64 42 92 32 18]\n"
     ]
    }
   ],
   "source": [
    "years=np.arange(2000,2010)\n",
    "population=np.random.randint(10,100,10)\n",
    "print(years)\n",
    "print(population)"
   ]
  },
  {
   "cell_type": "code",
   "execution_count": 8,
   "metadata": {},
   "outputs": [
    {
     "data": {
      "text/plain": [
       "Text(0.5, 1.0, 'population')"
      ]
     },
     "execution_count": 8,
     "metadata": {},
     "output_type": "execute_result"
    },
    {
     "data": {
      "image/png": "[encoded data removed]",
      "text/plain": [
       "<Figure size 640x480 with 1 Axes>"
      ]
     },
     "metadata": {},
     "output_type": "display_data"
    }
   ],
   "source": [
    "plt.bar(years,population)\n",
    "plt.title('population')"
   ]
  },
  {
   "cell_type": "code",
   "execution_count": 9,
   "metadata": {},
   "outputs": [
    {
     "data": {
      "text/plain": [
       "Text(0.5, 1.0, 'population')"
      ]
     },
     "execution_count": 9,
     "metadata": {},
     "output_type": "execute_result"
    },
    {
     "data": {
      "image/png": "[encoded data removed]",
      "text/plain": [
       "<Figure size 640x480 with 1 Axes>"
      ]
     },
     "metadata": {},
     "output_type": "display_data"
    }
   ],
   "source": [
    "plt.bar(years,population,color='red')\n",
    "plt.title('population')"
   ]
  },
  {
   "cell_type": "code",
   "execution_count": 10,
   "metadata": {},
   "outputs": [
    {
     "name": "stdout",
     "output_type": "stream",
     "text": [
      "\u001b[1;31mSignature:\u001b[0m\n",
      "\u001b[0mplt\u001b[0m\u001b[1;33m.\u001b[0m\u001b[0mbar\u001b[0m\u001b[1;33m(\u001b[0m\u001b[1;33m\n",
      "\u001b[0m    \u001b[0mx\u001b[0m\u001b[1;33m,\u001b[0m\u001b[1;33m\n",
      "\u001b[0m    \u001b[0mheight\u001b[0m\u001b[1;33m,\u001b[0m\u001b[1;33m\n",
      "\u001b[0m    \u001b[0mwidth\u001b[0m\u001b[1;33m=\u001b[0m\u001b[1;36m0.8\u001b[0m\u001b[1;33m,\u001b[0m\u001b[1;33m\n",
      "\u001b[0m    \u001b[0mbottom\u001b[0m\u001b[1;33m=\u001b[0m\u001b[1;32mNone\u001b[0m\u001b[1;33m,\u001b[0m\u001b[1;33m\n",
      "\u001b[0m    \u001b[1;33m*\u001b[0m\u001b[1;33m,\u001b[0m\u001b[1;33m\n",
      "\u001b[0m    \u001b[0malign\u001b[0m\u001b[1;33m=\u001b[0m\u001b[1;34m'center'\u001b[0m\u001b[1;33m,\u001b[0m\u001b[1;33m\n",
      "\u001b[0m    \u001b[0mdata\u001b[0m\u001b[1;33m=\u001b[0m\u001b[1;32mNone\u001b[0m\u001b[1;33m,\u001b[0m\u001b[1;33m\n",
      "\u001b[0m    \u001b[1;33m**\u001b[0m\u001b[0mkwargs\u001b[0m\u001b[1;33m,\u001b[0m\u001b[1;33m\n",
      "\u001b[0m\u001b[1;33m)\u001b[0m\u001b[1;33m\u001b[0m\u001b[1;33m\u001b[0m\u001b[0m\n",
      "\u001b[1;31mDocstring:\u001b[0m\n",
      "Make a bar plot.\n",
      "\n",
      "The bars are positioned at *x* with the given *align*\\ment. Their\n",
      "dimensions are given by *height* and *width*. The vertical baseline\n",
      "is *bottom* (default 0).\n",
      "\n",
      "Many parameters can take either a single value applying to all bars\n",
      "or a sequence of values, one for each bar.\n",
      "\n",
      "Parameters\n",
      "----------\n",
      "x : float or array-like\n",
      "    The x coordinates of the bars. See also *align* for the\n",
      "    alignment of the bars to the coordinates.\n",
      "\n",
      "height : float or array-like\n",
      "    The height(s) of the bars.\n",
      "\n",
      "width : float or array-like, default: 0.8\n",
      "    The width(s) of the bars.\n",
      "\n",
      "bottom : float or array-like, default: 0\n",
      "    The y coordinate(s) of the bottom side(s) of the bars.\n",
      "\n",
      "align : {'center', 'edge'}, default: 'center'\n",
      "    Alignment of the bars to the *x* coordinates:\n",
      "\n",
      "    - 'center': Center the base on the *x* positions.\n",
      "    - 'edge': Align the left edges of the bars with the *x* positions.\n",
      "\n",
      "    To align the bars on the right edge pass a negative *width* and\n",
      "    ``align='edge'``.\n",
      "\n",
      "Returns\n",
      "-------\n",
      "`.BarContainer`\n",
      "    Container with all the bars and optionally errorbars.\n",
      "\n",
      "Other Parameters\n",
      "----------------\n",
      "color : color or list of color, optional\n",
      "    The colors of the bar faces.\n",
      "\n",
      "edgecolor : color or list of color, optional\n",
      "    The colors of the bar edges.\n",
      "\n",
      "linewidth : float or array-like, optional\n",
      "    Width of the bar edge(s). If 0, don't draw edges.\n",
      "\n",
      "tick_label : str or list of str, optional\n",
      "    The tick labels of the bars.\n",
      "    Default: None (Use default numeric labels.)\n",
      "\n",
      "label : str or list of str, optional\n",
      "    A single label is attached to the resulting `.BarContainer` as a\n",
      "    label for the whole dataset.\n",
      "    If a list is provided, it must be the same length as *x* and\n",
      "    labels the individual bars. Repeated labels are not de-duplicated\n",
      "    and will cause repeated label entries, so this is best used when\n",
      "    bars also differ in style (e.g., by passing a list to *color*.)\n",
      "\n",
      "xerr, yerr : float or array-like of shape(N,) or shape(2, N), optional\n",
      "    If not *None*, add horizontal / vertical errorbars to the bar tips.\n",
      "    The values are +/- sizes relative to the data:\n",
      "\n",
      "    - scalar: symmetric +/- values for all bars\n",
      "    - shape(N,): symmetric +/- values for each bar\n",
      "    - shape(2, N): Separate - and + values for each bar. First row\n",
      "      contains the lower errors, the second row contains the upper\n",
      "      errors.\n",
      "    - *None*: No errorbar. (Default)\n",
      "\n",
      "    See :doc:`/gallery/statistics/errorbar_features` for an example on\n",
      "    the usage of *xerr* and *yerr*.\n",
      "\n",
      "ecolor : color or list of color, default: 'black'\n",
      "    The line color of the errorbars.\n",
      "\n",
      "capsize : float, default: :rc:`errorbar.capsize`\n",
      "   The length of the error bar caps in points.\n",
      "\n",
      "error_kw : dict, optional\n",
      "    Dictionary of keyword arguments to be passed to the\n",
      "    `~.Axes.errorbar` method. Values of *ecolor* or *capsize* defined\n",
      "    here take precedence over the independent keyword arguments.\n",
      "\n",
      "log : bool, default: False\n",
      "    If *True*, set the y-axis to be log scale.\n",
      "\n",
      "data : indexable object, optional\n",
      "    If given, all parameters also accept a string ``s``, which is\n",
      "    interpreted as ``data[s]`` (unless this raises an exception).\n",
      "\n",
      "**kwargs : `.Rectangle` properties\n",
      "\n",
      "Properties:\n",
      "    agg_filter: a filter function, which takes a (m, n, 3) float array and a dpi value, and returns a (m, n, 3) array and two offsets from the bottom left corner of the image\n",
      "    alpha: scalar or None\n",
      "    angle: unknown\n",
      "    animated: bool\n",
      "    antialiased or aa: bool or None\n",
      "    bounds: (left, bottom, width, height)\n",
      "    capstyle: `.CapStyle` or {'butt', 'projecting', 'round'}\n",
      "    clip_box: `.Bbox`\n",
      "    clip_on: bool\n",
      "    clip_path: Patch or (Path, Transform) or None\n",
      "    color: color\n",
      "    edgecolor or ec: color or None\n",
      "    facecolor or fc: color or None\n",
      "    figure: `.Figure`\n",
      "    fill: bool\n",
      "    gid: str\n",
      "    hatch: {'/', '\\\\', '|', '-', '+', 'x', 'o', 'O', '.', '*'}\n",
      "    height: unknown\n",
      "    in_layout: bool\n",
      "    joinstyle: `.JoinStyle` or {'miter', 'round', 'bevel'}\n",
      "    label: object\n",
      "    linestyle or ls: {'-', '--', '-.', ':', '', (offset, on-off-seq), ...}\n",
      "    linewidth or lw: float or None\n",
      "    mouseover: bool\n",
      "    path_effects: `.AbstractPathEffect`\n",
      "    picker: None or bool or float or callable\n",
      "    rasterized: bool\n",
      "    sketch_params: (scale: float, length: float, randomness: float)\n",
      "    snap: bool or None\n",
      "    transform: `.Transform`\n",
      "    url: str\n",
      "    visible: bool\n",
      "    width: unknown\n",
      "    x: unknown\n",
      "    xy: (float, float)\n",
      "    y: unknown\n",
      "    zorder: float\n",
      "\n",
      "See Also\n",
      "--------\n",
      "barh : Plot a horizontal bar plot.\n",
      "\n",
      "Notes\n",
      "-----\n",
      "Stacked bars can be achieved by passing individual *bottom* values per\n",
      "bar. See :doc:`/gallery/lines_bars_and_markers/bar_stacked`.\n",
      "\u001b[1;31mFile:\u001b[0m      c:\\users\\hp\\miniconda3\\lib\\site-packages\\matplotlib\\pyplot.py\n",
      "\u001b[1;31mType:\u001b[0m      function\n"
     ]
    }
   ],
   "source": [
    "plt.bar?"
   ]
  },
  {
   "cell_type": "code",
   "execution_count": 12,
   "metadata": {},
   "outputs": [
    {
     "data": {
      "text/plain": [
       "Text(0.5, 1.0, 'population')"
      ]
     },
     "execution_count": 12,
     "metadata": {},
     "output_type": "execute_result"
    },
    {
     "data": {
      "image/png": "[encoded data removed]",
      "text/plain": [
       "<Figure size 640x480 with 1 Axes>"
      ]
     },
     "metadata": {},
     "output_type": "display_data"
    }
   ],
   "source": [
    "plt.bar(years,population,color=(\"wheat\",\"hotpink\"))\n",
    "plt.title('population')"
   ]
  },
  {
   "cell_type": "code",
   "execution_count": null,
   "metadata": {},
   "outputs": [],
   "source": []
  }
 ],
 "metadata": {
  "kernelspec": {
   "display_name": "base",
   "language": "python",
   "name": "python3"
  },
  "language_info": {
   "codemirror_mode": {
    "name": "ipython",
    "version": 3
   },
   "file_extension": ".py",
   "mimetype": "text/x-python",
   "name": "python",
   "nbconvert_exporter": "python",
   "pygments_lexer": "ipython3",
   "version": "3.9.12"
  },
  "orig_nbformat": 4,
  "vscode": {
   "interpreter": {
    "hash": "79d71d161e7943240a345005223b4b57f09b9732a24e4917a9c0467b3aef16ea"
   }
  }
 },
 "nbformat": 4,
 "nbformat_minor": 2
}
