{
 "cells": [
  {
   "cell_type": "code",
   "execution_count": 7,
   "metadata": {},
   "outputs": [
    {
     "ename": "SyntaxError",
     "evalue": "invalid syntax (1238762741.py, line 1)",
     "output_type": "error",
     "traceback": [
      "\u001b[1;36m  Input \u001b[1;32mIn [7]\u001b[1;36m\u001b[0m\n\u001b[1;33m    take 2 list and create another list by adding elements of both list together according to index\u001b[0m\n\u001b[1;37m         ^\u001b[0m\n\u001b[1;31mSyntaxError\u001b[0m\u001b[1;31m:\u001b[0m invalid syntax\n"
     ]
    }
   ],
   "source": [
    "take 2 list and create another list by adding elements of both list together according to index \n",
    "\n",
    "for example\n",
    "x=[1,2,3]\n",
    "y=[5,6,7]\n",
    "answer\n",
    "z=[5,6,7]"
   ]
  },
  {
   "cell_type": "code",
   "execution_count": 6,
   "metadata": {},
   "outputs": [
    {
     "name": "stdout",
     "output_type": "stream",
     "text": [
      "[5, 4, 3, 2]\n",
      "[1, 4, 5, 3]\n",
      "---------------\n",
      "[6, 8, 8, 5]\n"
     ]
    }
   ],
   "source": [
    "z=[]\n",
    "x=[5,4,3,2]\n",
    "\n",
    "\n",
    "\n",
    "\n",
    "\n",
    "y=[1,4,5,3]\n",
    "for i,j in zip (x,y):\n",
    "    ans = i + j\n",
    "    z.append(ans)\n",
    "print(x)\n",
    "print(y)\n",
    "print('-'*15)\n",
    "print(z)"
   ]
  },
  {
   "cell_type": "markdown",
   "metadata": {},
   "source": [
    "we have length of 5 items in one list and width of 5 items in another list.calculate the area and store them into third list ,take one item from both list at a time \n",
    "length=[1,2,3,4,55]\n",
    "width=[1,3,4,5,5]\n",
    "answer\n",
    "area=[2,3,4,55,]"
   ]
  },
  {
   "cell_type": "code",
   "execution_count": 10,
   "metadata": {},
   "outputs": [
    {
     "name": "stdout",
     "output_type": "stream",
     "text": [
      "[1, 2, 3, 3, 4]\n",
      "[3, 3, 2, 1, 4]\n",
      "[3, 6, 6, 3, 16]\n"
     ]
    }
   ],
   "source": [
    "area=[]\n",
    "length=[1,2,3,3,4]\n",
    "width=[3,3,2,1,4]\n",
    "for i,j in zip (length,width):\n",
    "    ans=i*j\n",
    "    area.append(ans)\n",
    "print(length)\n",
    "print(width)\n",
    "print(area)"
   ]
  },
  {
   "cell_type": "markdown",
   "metadata": {},
   "source": [
    "we have a list of number,we need to square each number and store them into another list.\n",
    "example\n",
    "number=[1,2,3,4,5]\n",
    "answer\n",
    "square=[1,4,3,2,5]\n"
   ]
  },
  {
   "cell_type": "code",
   "execution_count": 14,
   "metadata": {},
   "outputs": [
    {
     "name": "stdout",
     "output_type": "stream",
     "text": [
      "[1, 2, 3, 4, 5]\n",
      "[1, 4, 9, 16, 25]\n"
     ]
    }
   ],
   "source": [
    "no=[1,2,3,4,5]\n",
    "square=[]\n",
    "for i in no:\n",
    "    square.append(i**2)\n",
    "print(no)\n",
    "print(square)"
   ]
  },
  {
   "cell_type": "markdown",
   "metadata": {},
   "source": [
    "#list comprehension\n",
    "newlist=[expression for items in iterable if condition ==True]"
   ]
  },
  {
   "cell_type": "code",
   "execution_count": 15,
   "metadata": {},
   "outputs": [
    {
     "name": "stdout",
     "output_type": "stream",
     "text": [
      "[1, 2, 3, 4, 5, 6, 6, 7, 7]\n",
      "[1, 4, 9, 16, 25, 36, 36, 49, 49]\n"
     ]
    }
   ],
   "source": [
    "x=[1,2,3,4,5,6,6,7,7]\n",
    "x2=[i**2 for i in x]\n",
    "print(x)\n",
    "print(x2)"
   ]
  },
  {
   "cell_type": "code",
   "execution_count": 16,
   "metadata": {},
   "outputs": [
    {
     "name": "stdout",
     "output_type": "stream",
     "text": [
      "['hello', 'alphbet', 'python', 'worldwide']\n",
      "[5, 7, 6, 9]\n"
     ]
    }
   ],
   "source": [
    "words=['hello','alphbet','python','worldwide']\n",
    "sizes=[len(w) for w in words]\n",
    "print(words)\n",
    "print(sizes)\n"
   ]
  },
  {
   "cell_type": "code",
   "execution_count": 21,
   "metadata": {},
   "outputs": [
    {
     "name": "stdout",
     "output_type": "stream",
     "text": [
      "[2, 8, 9, 170, 24, 35]\n"
     ]
    }
   ],
   "source": [
    "length = [1,2,3,34,4,5]\n",
    "width = [2,4,3,5,6,7]\n",
    "area = [l*w for l,w in zip(length,width)]\n",
    "print(area)"
   ]
  },
  {
   "cell_type": "code",
   "execution_count": 23,
   "metadata": {},
   "outputs": [
    {
     "name": "stdout",
     "output_type": "stream",
     "text": [
      "[1, 2, 3, 4, 5]\n",
      "[2, 4, 6, 8, 9]\n",
      "[2, 8, 18, 32, 45]\n"
     ]
    }
   ],
   "source": [
    "area=[]\n",
    "length=[1,2,3,4,5]\n",
    "width=[2,4,6,8,9]\n",
    "for i,j in zip(length,width):\n",
    "    ans=i*j\n",
    "    area.append(ans)\n",
    "print(length)\n",
    "print(width)\n",
    "print(area)"
   ]
  },
  {
   "cell_type": "code",
   "execution_count": 25,
   "metadata": {},
   "outputs": [
    {
     "name": "stdout",
     "output_type": "stream",
     "text": [
      "[5, 4, 6, 10]\n",
      "['mango', 'kivi', 'grapes', 'hello word']\n"
     ]
    }
   ],
   "source": [
    "word=['mango','kivi','grapes','hello word']\n",
    "sizes=[len(w)\n",
    "for w in word]\n",
    "print(sizes)\n",
    "print(word)"
   ]
  },
  {
   "cell_type": "code",
   "execution_count": null,
   "metadata": {},
   "outputs": [],
   "source": []
  }
 ],
 "metadata": {
  "kernelspec": {
   "display_name": "Python 3.10.7 64-bit",
   "language": "python",
   "name": "python3"
  },
  "language_info": {
   "codemirror_mode": {
    "name": "ipython",
    "version": 3
   },
   "file_extension": ".py",
   "mimetype": "text/x-python",
   "name": "python",
   "nbconvert_exporter": "python",
   "pygments_lexer": "ipython3",
   "version": "3.10.7"
  },
  "orig_nbformat": 4,
  "vscode": {
   "interpreter": {
    "hash": "63963b3f4c440940f0b94a3100916033a226cb4f45979123153792d60aa56d6a"
   }
  }
 },
 "nbformat": 4,
 "nbformat_minor": 2
}
