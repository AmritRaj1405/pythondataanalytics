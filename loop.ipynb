{
 "cells": [
  {
   "cell_type": "code",
   "execution_count": 2,
   "metadata": {},
   "outputs": [
    {
     "name": "stdout",
     "output_type": "stream",
     "text": [
      "i like red \n",
      "i like green\n",
      "i like blue\n"
     ]
    }
   ],
   "source": [
    "colors=['red ','green','blue']\n",
    "for color in colors:\n",
    "    print('i like',color)"
   ]
  },
  {
   "cell_type": "code",
   "execution_count": 5,
   "metadata": {},
   "outputs": [
    {
     "name": "stdout",
     "output_type": "stream",
     "text": [
      "0\n",
      "1\n",
      "2\n",
      "3\n",
      "4\n",
      "5\n",
      "6\n",
      "7\n",
      "8\n",
      "9\n"
     ]
    }
   ],
   "source": [
    "for i in range(10):\n",
    "    print(i)"
   ]
  },
  {
   "cell_type": "markdown",
   "metadata": {},
   "source": [
    "range() function \n",
    "-`range(100)` - 0 - 99\n",
    "-`range(5, 50)`=> 5,15,25,35,45,55,65,75,85,95\n",
    "-range(start,stop,step)\n"
   ]
  },
  {
   "cell_type": "code",
   "execution_count": 6,
   "metadata": {},
   "outputs": [
    {
     "name": "stdout",
     "output_type": "stream",
     "text": [
      "0 1 2 3 4 5 6 7 8 9 10 11 12 13 14 15 16 17 18 19 20 21 22 23 24 25 26 27 28 29 30 31 32 33 34 35 36 37 38 39 40 41 42 43 44 45 46 47 48 49 50 51 52 53 54 55 56 57 58 59 60 61 62 63 64 65 66 67 68 69 70 71 72 73 74 75 76 77 78 79 80 81 82 83 84 85 86 87 88 89 90 91 92 93 94 95 96 97 98 99 "
     ]
    }
   ],
   "source": [
    "for i in range(100):\n",
    "    print(i,end=' ')"
   ]
  },
  {
   "cell_type": "code",
   "execution_count": 8,
   "metadata": {},
   "outputs": [
    {
     "name": "stdout",
     "output_type": "stream",
     "text": [
      "5 15 25 35 45 55 65 75 85 95 "
     ]
    }
   ],
   "source": [
    "for i in range(5,100,10):\n",
    "    print(i,end=' ')"
   ]
  },
  {
   "cell_type": "code",
   "execution_count": 9,
   "metadata": {},
   "outputs": [
    {
     "name": "stdout",
     "output_type": "stream",
     "text": [
      "200 220 240 260 280 300 320 340 360 380 400 420 440 460 480 500 520 540 560 580 600 620 640 660 680 700 720 740 760 780 800 820 840 860 880 900 920 940 960 980 "
     ]
    }
   ],
   "source": [
    "for i in range (200,1000,20):\n",
    "    print(i,end=' ')"
   ]
  },
  {
   "cell_type": "code",
   "execution_count": null,
   "metadata": {},
   "outputs": [],
   "source": [
    "numbers=[46,22,45,32,11,222,123,453]\n",
    "for i in numbers:\n",
    "    if i % 2==0:\n",
    "        print(f'{i} is even')\n",
    "    else:\n",
    "        print(f'{i} is odd')"
   ]
  },
  {
   "cell_type": "code",
   "execution_count": 13,
   "metadata": {},
   "outputs": [
    {
     "name": "stdout",
     "output_type": "stream",
     "text": [
      "red\n",
      "yello\n",
      "green\n",
      "bule\n"
     ]
    }
   ],
   "source": [
    "colors=['red','yello','green','bule']\n",
    "for c in colors:\n",
    "    if 'e' in c:\n",
    "        print(c)"
   ]
  },
  {
   "cell_type": "code",
   "execution_count": 20,
   "metadata": {},
   "outputs": [
    {
     "name": "stdout",
     "output_type": "stream",
     "text": [
      "hello sir\n",
      "hello doctor\n",
      "hello ma'am\n",
      "hello doctor\n",
      "Alex is not invited\n"
     ]
    }
   ],
   "source": [
    "guests=['mr. johan', 'dr. smith','mrs. jones','dr. strange','Alex' ]\n",
    "for name in guests:\n",
    "    if name.startswith('mr.'):\n",
    "        print(\"hello sir\")\n",
    "    elif name.startswith('dr.'):\n",
    "        print('hello doctor')\n",
    "    elif name.startswith('mrs.'):\n",
    "        print(\"hello ma'am\")\n",
    "    else:\n",
    "        print(f'{name} is not invited')"
   ]
  },
  {
   "cell_type": "code",
   "execution_count": 23,
   "metadata": {},
   "outputs": [
    {
     "name": "stdout",
     "output_type": "stream",
     "text": [
      "😀\n",
      "😑\n",
      "😌\n",
      "😌\n",
      "😑\n",
      "😀\n",
      "😀\n",
      "😌\n",
      "😌\n"
     ]
    }
   ],
   "source": [
    "numbers=[23,34,55,66,33,23,11,77,98]\n",
    "for num in numbers:\n",
    "    if num<30:\n",
    "        print('😀')\n",
    "    elif num>50:\n",
    "        print('😌')\n",
    "    else:\n",
    "        print('😑')"
   ]
  },
  {
   "cell_type": "code",
   "execution_count": null,
   "metadata": {},
   "outputs": [],
   "source": []
  }
 ],
 "metadata": {
  "kernelspec": {
   "display_name": "Python 3.10.7 64-bit",
   "language": "python",
   "name": "python3"
  },
  "language_info": {
   "codemirror_mode": {
    "name": "ipython",
    "version": 3
   },
   "file_extension": ".py",
   "mimetype": "text/x-python",
   "name": "python",
   "nbconvert_exporter": "python",
   "pygments_lexer": "ipython3",
   "version": "3.10.7"
  },
  "orig_nbformat": 4,
  "vscode": {
   "interpreter": {
    "hash": "63963b3f4c440940f0b94a3100916033a226cb4f45979123153792d60aa56d6a"
   }
  }
 },
 "nbformat": 4,
 "nbformat_minor": 2
}
