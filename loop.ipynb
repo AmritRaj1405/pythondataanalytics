{
 "cells": [
  {
   "cell_type": "code",
   "execution_count": 25,
   "metadata": {},
   "outputs": [
    {
     "name": "stdout",
     "output_type": "stream",
     "text": [
      "i like red \n",
      "i like green\n",
      "i like blue\n"
     ]
    }
   ],
   "source": [
    "colors=['red ','green','blue']\n",
    "for color in colors:\n",
    "    print('i like',color)"
   ]
  },
  {
   "cell_type": "code",
   "execution_count": 26,
   "metadata": {},
   "outputs": [
    {
     "name": "stdout",
     "output_type": "stream",
     "text": [
      "0\n",
      "1\n",
      "2\n",
      "3\n",
      "4\n",
      "5\n",
      "6\n",
      "7\n",
      "8\n",
      "9\n"
     ]
    }
   ],
   "source": [
    "for i in range(10):\n",
    "    print(i)"
   ]
  },
  {
   "cell_type": "markdown",
   "metadata": {},
   "source": [
    "range() function \n",
    "-`range(100)` - 0 - 99\n",
    "-`range(5, 50)`=> 5,15,25,35,45,55,65,75,85,95\n",
    "-range(start,stop,step)\n"
   ]
  },
  {
   "cell_type": "code",
   "execution_count": 27,
   "metadata": {},
   "outputs": [
    {
     "name": "stdout",
     "output_type": "stream",
     "text": [
      "0 1 2 3 4 5 6 7 8 9 10 11 12 13 14 15 16 17 18 19 20 21 22 23 24 25 26 27 28 29 30 31 32 33 34 35 36 37 38 39 40 41 42 43 44 45 46 47 48 49 50 51 52 53 54 55 56 57 58 59 60 61 62 63 64 65 66 67 68 69 70 71 72 73 74 75 76 77 78 79 80 81 82 83 84 85 86 87 88 89 90 91 92 93 94 95 96 97 98 99 "
     ]
    }
   ],
   "source": [
    "for i in range(100):\n",
    "    print(i,end=' ')"
   ]
  },
  {
   "cell_type": "code",
   "execution_count": 28,
   "metadata": {},
   "outputs": [
    {
     "name": "stdout",
     "output_type": "stream",
     "text": [
      "5 15 25 35 45 55 65 75 85 95 "
     ]
    }
   ],
   "source": [
    "for i in range(5,100,10):\n",
    "    print(i,end=' ')"
   ]
  },
  {
   "cell_type": "code",
   "execution_count": 29,
   "metadata": {},
   "outputs": [
    {
     "name": "stdout",
     "output_type": "stream",
     "text": [
      "200 220 240 260 280 300 320 340 360 380 400 420 440 460 480 500 520 540 560 580 600 620 640 660 680 700 720 740 760 780 800 820 840 860 880 900 920 940 960 980 "
     ]
    }
   ],
   "source": [
    "for i in range (200,1000,20):\n",
    "    print(i,end=' ')"
   ]
  },
  {
   "cell_type": "code",
   "execution_count": 30,
   "metadata": {},
   "outputs": [
    {
     "name": "stdout",
     "output_type": "stream",
     "text": [
      "46 is even\n",
      "22 is even\n",
      "45 is odd\n",
      "32 is even\n",
      "11 is odd\n",
      "222 is even\n",
      "123 is odd\n",
      "453 is odd\n"
     ]
    }
   ],
   "source": [
    "numbers=[46,22,45,32,11,222,123,453]\n",
    "for i in numbers:\n",
    "    if i % 2==0:\n",
    "        print(f'{i} is even')\n",
    "    else:\n",
    "        print(f'{i} is odd')"
   ]
  },
  {
   "cell_type": "code",
   "execution_count": 31,
   "metadata": {},
   "outputs": [
    {
     "name": "stdout",
     "output_type": "stream",
     "text": [
      "red\n",
      "yello\n",
      "green\n",
      "bule\n"
     ]
    }
   ],
   "source": [
    "colors=['red','yello','green','bule']\n",
    "for c in colors:\n",
    "    if 'e' in c:\n",
    "        print(c)"
   ]
  },
  {
   "cell_type": "code",
   "execution_count": 32,
   "metadata": {},
   "outputs": [
    {
     "name": "stdout",
     "output_type": "stream",
     "text": [
      "hello sir\n",
      "hello doctor\n",
      "hello ma'am\n",
      "hello doctor\n",
      "Alex is not invited\n"
     ]
    }
   ],
   "source": [
    "guests=['mr. johan', 'dr. smith','mrs. jones','dr. strange','Alex' ]\n",
    "for name in guests:\n",
    "    if name.startswith('mr.'):\n",
    "        print(\"hello sir\")\n",
    "    elif name.startswith('dr.'):\n",
    "        print('hello doctor')\n",
    "    elif name.startswith('mrs.'):\n",
    "        print(\"hello ma'am\")\n",
    "    else:\n",
    "        print(f'{name} is not invited')"
   ]
  },
  {
   "cell_type": "code",
   "execution_count": 33,
   "metadata": {},
   "outputs": [
    {
     "name": "stdout",
     "output_type": "stream",
     "text": [
      "😀\n",
      "😑\n",
      "😌\n",
      "😌\n",
      "😑\n",
      "😀\n",
      "😀\n",
      "😌\n",
      "😌\n"
     ]
    }
   ],
   "source": [
    "numbers=[23,34,55,66,33,23,11,77,98]\n",
    "for num in numbers:\n",
    "    if num<30:\n",
    "        print('😀')\n",
    "    elif num>50:\n",
    "        print('😌')\n",
    "    else:\n",
    "        print('😑')"
   ]
  },
  {
   "cell_type": "code",
   "execution_count": 34,
   "metadata": {},
   "outputs": [
    {
     "name": "stdout",
     "output_type": "stream",
     "text": [
      "😀\n",
      "😂\n",
      "🙂\n",
      "😂\n",
      "🙂\n",
      "🙂\n",
      "😂\n"
     ]
    }
   ],
   "source": [
    "numbers=[11,44,55,33,56,77,44]\n",
    "for num in numbers:\n",
    "    if num<30:\n",
    "        print('😀')\n",
    "    elif num>50:\n",
    "        print('🙂')\n",
    "    else:\n",
    "        print('😂')"
   ]
  },
  {
   "cell_type": "code",
   "execution_count": 39,
   "metadata": {},
   "outputs": [
    {
     "name": "stdout",
     "output_type": "stream",
     "text": [
      "hello sir\n",
      "hello doctor\n",
      "hello mam\n",
      "Alfraid not invited\n"
     ]
    }
   ],
   "source": [
    "guests=['Er. Smith','Dr. Jones','Mrs Nicolus','Alfraid']\n",
    "for name in guests:\n",
    "    if name.startswith('Er'):\n",
    "        print('hello sir')\n",
    "    elif name.startswith('Dr'):\n",
    "        print(\"hello doctor\")\n",
    "    elif name.startswith('Mrs'):\n",
    "        print(\"hello mam\")\n",
    "    else:\n",
    "        print(f\"{name} not invited\")"
   ]
  },
  {
   "cell_type": "markdown",
   "metadata": {},
   "source": [
    "# functions that used along with loops\n",
    "enumerates()\n",
    "zip()"
   ]
  },
  {
   "cell_type": "markdown",
   "metadata": {},
   "source": []
  },
  {
   "cell_type": "code",
   "execution_count": 40,
   "metadata": {},
   "outputs": [
    {
     "name": "stdout",
     "output_type": "stream",
     "text": [
      "(0, 'amrit')\n",
      "(1, 'versha')\n",
      "(2, 'amit')\n"
     ]
    }
   ],
   "source": [
    "names=['amrit','versha','amit']\n",
    "for nm in enumerate(names):\n",
    "    print(nm)"
   ]
  },
  {
   "cell_type": "code",
   "execution_count": 41,
   "metadata": {},
   "outputs": [
    {
     "name": "stdout",
     "output_type": "stream",
     "text": [
      "A is at index0\n",
      "l is at index1\n",
      "f is at index2\n",
      "r is at index3\n",
      "a is at index4\n",
      "i is at index5\n",
      "d is at index6\n"
     ]
    }
   ],
   "source": [
    "for i ,nm in enumerate(name):\n",
    "    print(f'{nm} is at index{i}')"
   ]
  },
  {
   "cell_type": "code",
   "execution_count": 42,
   "metadata": {},
   "outputs": [
    {
     "name": "stdout",
     "output_type": "stream",
     "text": [
      "amrit has 🎁 13th may\n",
      "versha has 🎁 2sep\n",
      "amit has 🎁 23oct\n"
     ]
    }
   ],
   "source": [
    "#zip \n",
    "bday=['13th may','2sep','23oct']\n",
    "for nm, date in zip(names,bday):\n",
    "    print(f'{nm} has 🎁 {date}')"
   ]
  },
  {
   "cell_type": "code",
   "execution_count": 44,
   "metadata": {},
   "outputs": [
    {
     "name": "stdout",
     "output_type": "stream",
     "text": [
      "tv| $40000 | 5 pcs|total =200000\n",
      "fridge| $26000 | 10 pcs|total =260000\n",
      "table| $3000 | 55 pcs|total =165000\n"
     ]
    }
   ],
   "source": [
    "product=['tv','fridge','table','fan']\n",
    "prices=['40000','26000','3000']\n",
    "qty=[5,10,55]\n",
    "for p,pr,q in zip(product, prices, qty):\n",
    "    print(f'{p}| ${pr} | {q} pcs|total ={int(pr)*q}')"
   ]
  },
  {
   "cell_type": "markdown",
   "metadata": {},
   "source": [
    "Loop control\n",
    "-continue => skip a turn\n",
    "-break =>exit/stop the loop\n",
    "note: they are only used in a condition inside loop"
   ]
  },
  {
   "cell_type": "code",
   "execution_count": 45,
   "metadata": {},
   "outputs": [
    {
     "name": "stdout",
     "output_type": "stream",
     "text": [
      "1\n",
      "2\n",
      "4\n",
      "5\n",
      "7\n",
      "44\n",
      "6\n",
      "33\n",
      "22\n",
      "1\n",
      "4\n"
     ]
    }
   ],
   "source": [
    "x=[1,2,4,5,7,0,44,6,0,33,0,22,0,1,4,0]\n",
    "for i in x:\n",
    "    if i == 0:\n",
    "        continue\n",
    "    print(i)"
   ]
  },
  {
   "cell_type": "code",
   "execution_count": 48,
   "metadata": {},
   "outputs": [
    {
     "name": "stdout",
     "output_type": "stream",
     "text": [
      "amrit\n",
      "versha\n"
     ]
    }
   ],
   "source": [
    "for i ,nm in enumerate(names):\n",
    "    if i == 2:\n",
    "        break\n",
    "    print(nm)"
   ]
  },
  {
   "cell_type": "markdown",
   "metadata": {},
   "source": [
    "For Else \n"
   ]
  },
  {
   "cell_type": "code",
   "execution_count": 55,
   "metadata": {},
   "outputs": [
    {
     "name": "stdout",
     "output_type": "stream",
     "text": [
      "2 4 3 6 7 8 4 22 44 loop competed\n"
     ]
    }
   ],
   "source": [
    "c= True #flag or switch\n",
    "for i in [2,4,3,6,7,8,4,22,44]:\n",
    "    if i == 5:\n",
    "        c=False\n",
    "        break\n",
    "    print(i, end=' ')\n",
    "if c:\n",
    "    print('loop competed')\n",
    "else:\n",
    "    print('loop broken')"
   ]
  },
  {
   "cell_type": "code",
   "execution_count": 63,
   "metadata": {},
   "outputs": [
    {
     "name": "stdout",
     "output_type": "stream",
     "text": [
      "2 3 4 6 5 loop broken\n"
     ]
    }
   ],
   "source": [
    "for i in [2,3,4,6,5,9,0,2,3]:\n",
    "    if i == 5:\n",
    "        print(\"loop broken\")\n",
    "        break\n",
    "    print(i, end=' ')\n",
    "else:\n",
    "    print(\"loop completed\")"
   ]
  },
  {
   "cell_type": "markdown",
   "metadata": {},
   "source": [
    "while loop"
   ]
  },
  {
   "cell_type": "code",
   "execution_count": 64,
   "metadata": {},
   "outputs": [
    {
     "name": "stdout",
     "output_type": "stream",
     "text": [
      "100\n",
      "90\n",
      "80\n",
      "70\n",
      "60\n",
      "50\n",
      "40\n",
      "30\n",
      "20\n",
      "10\n"
     ]
    }
   ],
   "source": [
    "x=100\n",
    "while x>0:\n",
    "    print(x)\n",
    "    x -=10"
   ]
  },
  {
   "cell_type": "code",
   "execution_count": 65,
   "metadata": {},
   "outputs": [],
   "source": [
    "import random \n",
    "while input('continue[y/n]:')=='y':\n",
    "    number=random.randint(1000,9999)\n",
    "    print(f'lucky number :{number}')"
   ]
  }
 ],
 "metadata": {
  "kernelspec": {
   "display_name": "Python 3.10.7 64-bit",
   "language": "python",
   "name": "python3"
  },
  "language_info": {
   "codemirror_mode": {
    "name": "ipython",
    "version": 3
   },
   "file_extension": ".py",
   "mimetype": "text/x-python",
   "name": "python",
   "nbconvert_exporter": "python",
   "pygments_lexer": "ipython3",
   "version": "3.10.7"
  },
  "orig_nbformat": 4,
  "vscode": {
   "interpreter": {
    "hash": "63963b3f4c440940f0b94a3100916033a226cb4f45979123153792d60aa56d6a"
   }
  }
 },
 "nbformat": 4,
 "nbformat_minor": 2
}
